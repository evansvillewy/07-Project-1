{
 "cells": [
  {
   "cell_type": "code",
   "execution_count": 56,
   "metadata": {},
   "outputs": [],
   "source": [
    "# Dependencies\n",
    "import json\n",
    "import pandas as pd\n",
    "from datetime import datetime\n",
    "import numpy as np"
   ]
  },
  {
   "cell_type": "code",
   "execution_count": 57,
   "metadata": {},
   "outputs": [],
   "source": [
    "#read the data from saved files so we don't overuse our API\n",
    "with open('./Resources/weather_2015_to_2017_json.txt') as json_file:\n",
    "    weather_response = json.load(json_file)\n",
    "    \n",
    "with open('./Resources/crime_2015_json.txt') as json_file:\n",
    "    response_2015 = json.load(json_file)\n",
    "    \n",
    "with open('./Resources/crime_2016_json.txt') as json_file:\n",
    "    response_2016 = json.load(json_file)\n",
    "    \n",
    "with open('./Resources/crime_2017_json.txt') as json_file:\n",
    "    response_2017 = json.load(json_file)    "
   ]
  },
  {
   "cell_type": "code",
   "execution_count": 58,
   "metadata": {},
   "outputs": [],
   "source": [
    "#loop through weather data, convert data\n",
    "#get the weather data we are interested in analysing\n",
    "date = []\n",
    "temp = []\n",
    "# Using loop\n",
    "# Get values of particular key in list of dictionaries \n",
    "for weather in weather_response:\n",
    "    try:\n",
    "        date.append(datetime.fromtimestamp(weather['dt']))\n",
    "        temp.append(round(weather['main']['temp']))       \n",
    "    except:\n",
    "        print('exception')\n",
    "        pass"
   ]
  },
  {
   "cell_type": "code",
   "execution_count": 59,
   "metadata": {},
   "outputs": [
    {
     "data": {
      "text/html": [
       "<div>\n",
       "<style scoped>\n",
       "    .dataframe tbody tr th:only-of-type {\n",
       "        vertical-align: middle;\n",
       "    }\n",
       "\n",
       "    .dataframe tbody tr th {\n",
       "        vertical-align: top;\n",
       "    }\n",
       "\n",
       "    .dataframe thead th {\n",
       "        text-align: right;\n",
       "    }\n",
       "</style>\n",
       "<table border=\"1\" class=\"dataframe\">\n",
       "  <thead>\n",
       "    <tr style=\"text-align: right;\">\n",
       "      <th></th>\n",
       "      <th>date</th>\n",
       "      <th>temp</th>\n",
       "    </tr>\n",
       "  </thead>\n",
       "  <tbody>\n",
       "    <tr>\n",
       "      <td>0</td>\n",
       "      <td>2014-12-31 19:00:00</td>\n",
       "      <td>18</td>\n",
       "    </tr>\n",
       "    <tr>\n",
       "      <td>1</td>\n",
       "      <td>2014-12-31 20:00:00</td>\n",
       "      <td>19</td>\n",
       "    </tr>\n",
       "    <tr>\n",
       "      <td>2</td>\n",
       "      <td>2014-12-31 21:00:00</td>\n",
       "      <td>19</td>\n",
       "    </tr>\n",
       "    <tr>\n",
       "      <td>3</td>\n",
       "      <td>2014-12-31 22:00:00</td>\n",
       "      <td>19</td>\n",
       "    </tr>\n",
       "    <tr>\n",
       "      <td>4</td>\n",
       "      <td>2014-12-31 23:00:00</td>\n",
       "      <td>19</td>\n",
       "    </tr>\n",
       "    <tr>\n",
       "      <td>5</td>\n",
       "      <td>2015-01-01 00:00:00</td>\n",
       "      <td>19</td>\n",
       "    </tr>\n",
       "    <tr>\n",
       "      <td>6</td>\n",
       "      <td>2015-01-01 01:00:00</td>\n",
       "      <td>18</td>\n",
       "    </tr>\n",
       "    <tr>\n",
       "      <td>7</td>\n",
       "      <td>2015-01-01 02:00:00</td>\n",
       "      <td>18</td>\n",
       "    </tr>\n",
       "    <tr>\n",
       "      <td>8</td>\n",
       "      <td>2015-01-01 03:00:00</td>\n",
       "      <td>18</td>\n",
       "    </tr>\n",
       "    <tr>\n",
       "      <td>9</td>\n",
       "      <td>2015-01-01 04:00:00</td>\n",
       "      <td>17</td>\n",
       "    </tr>\n",
       "  </tbody>\n",
       "</table>\n",
       "</div>"
      ],
      "text/plain": [
       "                 date  temp\n",
       "0 2014-12-31 19:00:00    18\n",
       "1 2014-12-31 20:00:00    19\n",
       "2 2014-12-31 21:00:00    19\n",
       "3 2014-12-31 22:00:00    19\n",
       "4 2014-12-31 23:00:00    19\n",
       "5 2015-01-01 00:00:00    19\n",
       "6 2015-01-01 01:00:00    18\n",
       "7 2015-01-01 02:00:00    18\n",
       "8 2015-01-01 03:00:00    18\n",
       "9 2015-01-01 04:00:00    17"
      ]
     },
     "execution_count": 59,
     "metadata": {},
     "output_type": "execute_result"
    }
   ],
   "source": [
    "# create a data frame from the weather data\n",
    "weather_dict = {\n",
    "    'date': date,\n",
    "    'temp': temp\n",
    "}\n",
    "weather_data = pd.DataFrame(weather_dict)\n",
    "weather_data.head(10)"
   ]
  },
  {
   "cell_type": "code",
   "execution_count": 60,
   "metadata": {},
   "outputs": [],
   "source": [
    "# we have weather data from 2014, this is because the data is captured in GMT, \n",
    "# GMT is 6 hours ahead of CST, the time zone for Chicago"
   ]
  },
  {
   "cell_type": "code",
   "execution_count": 61,
   "metadata": {},
   "outputs": [],
   "source": [
    "received_weather_records=weather_data['temp'].count()"
   ]
  },
  {
   "cell_type": "code",
   "execution_count": 62,
   "metadata": {},
   "outputs": [
    {
     "name": "stdout",
     "output_type": "stream",
     "text": [
      "weather records we expected 26304\n",
      "weather records we received 26307\n"
     ]
    }
   ],
   "source": [
    "# there are 365 days in 2015\n",
    "# there are 366 days in 2016\n",
    "# there are 365 days in 2017\n",
    "# there are weather measurements every hours, resulting in 24 weather records per day.\n",
    "# The expected number of weather records is\n",
    "# (365*24) + (366*24) + (365*24) = 26304\n",
    "expected_weather_records = (365*24) + (366*24) + (365*24)\n",
    "print(f'weather records we expected {expected_weather_records}')\n",
    "print(f'weather records we received {received_weather_records}')"
   ]
  },
  {
   "cell_type": "code",
   "execution_count": 63,
   "metadata": {},
   "outputs": [],
   "source": [
    "# explain why we do nothave the expected number of weather records\n",
    "# add year so we can find weather records outside out time frame\n",
    "# add the truncated date so we can find days that do not have 24 weather records\n",
    "# source reference to extract year from pandas\n",
    "# https://www.interviewqs.com/ddi_code_snippets/extract_month_year_pandas\n",
    "weather_data_year = weather_data\n",
    "weather_data_year['date_trunc'] = weather_data_year['date'].dt.floor('D')\n",
    "weather_data_year['year'] = pd.DatetimeIndex(weather_data_year['date']).year"
   ]
  },
  {
   "cell_type": "code",
   "execution_count": 64,
   "metadata": {},
   "outputs": [
    {
     "data": {
      "text/html": [
       "<div>\n",
       "<style scoped>\n",
       "    .dataframe tbody tr th:only-of-type {\n",
       "        vertical-align: middle;\n",
       "    }\n",
       "\n",
       "    .dataframe tbody tr th {\n",
       "        vertical-align: top;\n",
       "    }\n",
       "\n",
       "    .dataframe thead th {\n",
       "        text-align: right;\n",
       "    }\n",
       "</style>\n",
       "<table border=\"1\" class=\"dataframe\">\n",
       "  <thead>\n",
       "    <tr style=\"text-align: right;\">\n",
       "      <th></th>\n",
       "      <th>date</th>\n",
       "      <th>temp</th>\n",
       "      <th>date_trunc</th>\n",
       "      <th>year</th>\n",
       "    </tr>\n",
       "  </thead>\n",
       "  <tbody>\n",
       "    <tr>\n",
       "      <td>0</td>\n",
       "      <td>2014-12-31 19:00:00</td>\n",
       "      <td>18</td>\n",
       "      <td>2014-12-31</td>\n",
       "      <td>2014</td>\n",
       "    </tr>\n",
       "    <tr>\n",
       "      <td>1</td>\n",
       "      <td>2014-12-31 20:00:00</td>\n",
       "      <td>19</td>\n",
       "      <td>2014-12-31</td>\n",
       "      <td>2014</td>\n",
       "    </tr>\n",
       "    <tr>\n",
       "      <td>2</td>\n",
       "      <td>2014-12-31 21:00:00</td>\n",
       "      <td>19</td>\n",
       "      <td>2014-12-31</td>\n",
       "      <td>2014</td>\n",
       "    </tr>\n",
       "    <tr>\n",
       "      <td>3</td>\n",
       "      <td>2014-12-31 22:00:00</td>\n",
       "      <td>19</td>\n",
       "      <td>2014-12-31</td>\n",
       "      <td>2014</td>\n",
       "    </tr>\n",
       "    <tr>\n",
       "      <td>4</td>\n",
       "      <td>2014-12-31 23:00:00</td>\n",
       "      <td>19</td>\n",
       "      <td>2014-12-31</td>\n",
       "      <td>2014</td>\n",
       "    </tr>\n",
       "    <tr>\n",
       "      <td>...</td>\n",
       "      <td>...</td>\n",
       "      <td>...</td>\n",
       "      <td>...</td>\n",
       "      <td>...</td>\n",
       "    </tr>\n",
       "    <tr>\n",
       "      <td>26302</td>\n",
       "      <td>2017-12-31 14:00:00</td>\n",
       "      <td>12</td>\n",
       "      <td>2017-12-31</td>\n",
       "      <td>2017</td>\n",
       "    </tr>\n",
       "    <tr>\n",
       "      <td>26303</td>\n",
       "      <td>2017-12-31 15:00:00</td>\n",
       "      <td>14</td>\n",
       "      <td>2017-12-31</td>\n",
       "      <td>2017</td>\n",
       "    </tr>\n",
       "    <tr>\n",
       "      <td>26304</td>\n",
       "      <td>2017-12-31 16:00:00</td>\n",
       "      <td>14</td>\n",
       "      <td>2017-12-31</td>\n",
       "      <td>2017</td>\n",
       "    </tr>\n",
       "    <tr>\n",
       "      <td>26305</td>\n",
       "      <td>2017-12-31 17:00:00</td>\n",
       "      <td>13</td>\n",
       "      <td>2017-12-31</td>\n",
       "      <td>2017</td>\n",
       "    </tr>\n",
       "    <tr>\n",
       "      <td>26306</td>\n",
       "      <td>2017-12-31 18:00:00</td>\n",
       "      <td>11</td>\n",
       "      <td>2017-12-31</td>\n",
       "      <td>2017</td>\n",
       "    </tr>\n",
       "  </tbody>\n",
       "</table>\n",
       "<p>26307 rows × 4 columns</p>\n",
       "</div>"
      ],
      "text/plain": [
       "                     date  temp date_trunc  year\n",
       "0     2014-12-31 19:00:00    18 2014-12-31  2014\n",
       "1     2014-12-31 20:00:00    19 2014-12-31  2014\n",
       "2     2014-12-31 21:00:00    19 2014-12-31  2014\n",
       "3     2014-12-31 22:00:00    19 2014-12-31  2014\n",
       "4     2014-12-31 23:00:00    19 2014-12-31  2014\n",
       "...                   ...   ...        ...   ...\n",
       "26302 2017-12-31 14:00:00    12 2017-12-31  2017\n",
       "26303 2017-12-31 15:00:00    14 2017-12-31  2017\n",
       "26304 2017-12-31 16:00:00    14 2017-12-31  2017\n",
       "26305 2017-12-31 17:00:00    13 2017-12-31  2017\n",
       "26306 2017-12-31 18:00:00    11 2017-12-31  2017\n",
       "\n",
       "[26307 rows x 4 columns]"
      ]
     },
     "execution_count": 64,
     "metadata": {},
     "output_type": "execute_result"
    }
   ],
   "source": [
    "weather_data_year"
   ]
  },
  {
   "cell_type": "code",
   "execution_count": 65,
   "metadata": {},
   "outputs": [
    {
     "name": "stdout",
     "output_type": "stream",
     "text": [
      "extra records outside our range 5\n"
     ]
    }
   ],
   "source": [
    "# get the count of records for years other than 2015-2017\n",
    "odd_days = (weather_data_year['date'][(weather_data_year['year'] != 2015) & \n",
    "                                               (weather_data_year['year'] != 2016) &\n",
    "                                               (weather_data_year['year'] != 2017)]\n",
    "           )\n",
    "records_outside_range = len(odd_days)       \n",
    "print(f'extra records outside our range {records_outside_range}' )"
   ]
  },
  {
   "cell_type": "code",
   "execution_count": 66,
   "metadata": {},
   "outputs": [
    {
     "name": "stdout",
     "output_type": "stream",
     "text": [
      "we expected 26304 weather records\n",
      "we received 26307 weather records\n",
      "We were short weather records for the date range 2015 - 2017 by -2\n",
      "we were over weather records outside our date range 2015-2017 by 5\n",
      "This explains the delta between what we received and what we expected to recieve\n"
     ]
    }
   ],
   "source": [
    "# get the weather row count by day to see what weather we have\n",
    "# source reference\n",
    "# filter based on multiple values \n",
    "#https://www.interviewqs.com/ddi_code_snippets/rows_cols_python\n",
    "years = [2015,2016,2017]\n",
    "weather_data_day = weather_data_year[['date','date_trunc']][weather_data_year['year'].isin(years)]\n",
    "                     \n",
    "grouped_weather_data_count = weather_data_day.groupby(['date_trunc']).count()\n",
    "\n",
    "# days where we don't have 24 weather records\n",
    "odd_days = grouped_weather_data_count['date'][grouped_weather_data_count['date'] != 24 ]\n",
    "\n",
    "# convert to a dataframe to easier use\n",
    "odd_days = pd.DataFrame(odd_days)\n",
    "\n",
    "# determine how many weather data records we are missing\n",
    "odd_days['delta'] = odd_days['date'] - 24\n",
    "records_delta = odd_days['delta'].sum()\n",
    "print(f'we expected {expected_weather_records} weather records')\n",
    "print(f'we received {received_weather_records} weather records')\n",
    "print(f'We were short weather records for the date range 2015 - 2017 by {records_delta}')\n",
    "print(f'we were over weather records outside our date range 2015-2017 by {records_outside_range}')\n",
    "print(f'This explains the delta between what we received and what we expected to recieve')"
   ]
  },
  {
   "cell_type": "code",
   "execution_count": 67,
   "metadata": {},
   "outputs": [],
   "source": [
    "# sort the data and remove duplicates\n",
    "#source reference\n",
    "#https://www.geeksforgeeks.org/python-pandas-dataframe-drop_duplicates/\n",
    "weather_data.sort_values('date', inplace = True) \n"
   ]
  },
  {
   "cell_type": "code",
   "execution_count": 68,
   "metadata": {},
   "outputs": [],
   "source": [
    "#remove missing values from the dataframe\n",
    "weather_data.drop_duplicates(subset ='date', keep = False, inplace = True) "
   ]
  },
  {
   "cell_type": "code",
   "execution_count": 69,
   "metadata": {},
   "outputs": [],
   "source": [
    "# write cleaned weather data to a csv\n",
    "weather_data.to_csv('./Resources/weather_2015_to_2017.csv',index=False)"
   ]
  },
  {
   "cell_type": "code",
   "execution_count": 70,
   "metadata": {},
   "outputs": [],
   "source": [
    "# load crime data into dataframes\n",
    "crime_2015_df=pd.DataFrame(response_2015)\n",
    "crime_2016_df=pd.DataFrame(response_2016)\n",
    "crime_2017_df=pd.DataFrame(response_2017)"
   ]
  },
  {
   "cell_type": "code",
   "execution_count": 71,
   "metadata": {},
   "outputs": [
    {
     "name": "stdout",
     "output_type": "stream",
     "text": [
      " rows after concat 802022\n"
     ]
    }
   ],
   "source": [
    "#concatenate the dataframes\n",
    "#source reference\n",
    "#https://pandas.pydata.org/pandas-docs/stable/user_guide/merging.html\n",
    "frames = [crime_2015_df,crime_2016_df,crime_2017_df]\n",
    "crime_df = pd.concat(frames,sort=True)\n",
    "print(f' rows after concat {len(crime_df.index)}')"
   ]
  },
  {
   "cell_type": "code",
   "execution_count": 72,
   "metadata": {},
   "outputs": [
    {
     "data": {
      "text/html": [
       "<div>\n",
       "<style scoped>\n",
       "    .dataframe tbody tr th:only-of-type {\n",
       "        vertical-align: middle;\n",
       "    }\n",
       "\n",
       "    .dataframe tbody tr th {\n",
       "        vertical-align: top;\n",
       "    }\n",
       "\n",
       "    .dataframe thead th {\n",
       "        text-align: right;\n",
       "    }\n",
       "</style>\n",
       "<table border=\"1\" class=\"dataframe\">\n",
       "  <thead>\n",
       "    <tr style=\"text-align: right;\">\n",
       "      <th></th>\n",
       "      <th>:@computed_region_43wa_7qmu</th>\n",
       "      <th>:@computed_region_6mkv_f3dw</th>\n",
       "      <th>:@computed_region_awaf_s7ux</th>\n",
       "      <th>:@computed_region_bdys_3d7i</th>\n",
       "      <th>:@computed_region_d3ds_rm58</th>\n",
       "      <th>:@computed_region_d9mm_jgwp</th>\n",
       "      <th>:@computed_region_rpca_8um6</th>\n",
       "      <th>:@computed_region_vrxf_vc4k</th>\n",
       "      <th>arrest</th>\n",
       "      <th>beat</th>\n",
       "      <th>...</th>\n",
       "      <th>latitude</th>\n",
       "      <th>location</th>\n",
       "      <th>location_description</th>\n",
       "      <th>longitude</th>\n",
       "      <th>primary_type</th>\n",
       "      <th>updated_on</th>\n",
       "      <th>ward</th>\n",
       "      <th>x_coordinate</th>\n",
       "      <th>y_coordinate</th>\n",
       "      <th>year</th>\n",
       "    </tr>\n",
       "  </thead>\n",
       "  <tbody>\n",
       "    <tr>\n",
       "      <td>0</td>\n",
       "      <td>NaN</td>\n",
       "      <td>NaN</td>\n",
       "      <td>NaN</td>\n",
       "      <td>NaN</td>\n",
       "      <td>NaN</td>\n",
       "      <td>NaN</td>\n",
       "      <td>NaN</td>\n",
       "      <td>NaN</td>\n",
       "      <td>False</td>\n",
       "      <td>1422</td>\n",
       "      <td>...</td>\n",
       "      <td>NaN</td>\n",
       "      <td>NaN</td>\n",
       "      <td>RESIDENCE PORCH/HALLWAY</td>\n",
       "      <td>NaN</td>\n",
       "      <td>THEFT</td>\n",
       "      <td>2018-02-09T15:44:29.000</td>\n",
       "      <td>26</td>\n",
       "      <td>NaN</td>\n",
       "      <td>NaN</td>\n",
       "      <td>2015</td>\n",
       "    </tr>\n",
       "    <tr>\n",
       "      <td>1</td>\n",
       "      <td>32</td>\n",
       "      <td>21554</td>\n",
       "      <td>17</td>\n",
       "      <td>511</td>\n",
       "      <td>229</td>\n",
       "      <td>20</td>\n",
       "      <td>59</td>\n",
       "      <td>66</td>\n",
       "      <td>False</td>\n",
       "      <td>0621</td>\n",
       "      <td>...</td>\n",
       "      <td>41.757366519</td>\n",
       "      <td>{'latitude': '41.757366519', 'human_address': ...</td>\n",
       "      <td>STREET</td>\n",
       "      <td>-87.642992854</td>\n",
       "      <td>CRIMINAL DAMAGE</td>\n",
       "      <td>2018-02-10T15:50:01.000</td>\n",
       "      <td>17</td>\n",
       "      <td>1172605</td>\n",
       "      <td>1854931</td>\n",
       "      <td>2015</td>\n",
       "    </tr>\n",
       "    <tr>\n",
       "      <td>2</td>\n",
       "      <td>35</td>\n",
       "      <td>21202</td>\n",
       "      <td>9</td>\n",
       "      <td>431</td>\n",
       "      <td>224</td>\n",
       "      <td>19</td>\n",
       "      <td>25</td>\n",
       "      <td>41</td>\n",
       "      <td>False</td>\n",
       "      <td>0411</td>\n",
       "      <td>...</td>\n",
       "      <td>41.751270452</td>\n",
       "      <td>{'latitude': '41.751270452', 'human_address': ...</td>\n",
       "      <td>STREET</td>\n",
       "      <td>-87.585822373</td>\n",
       "      <td>BATTERY</td>\n",
       "      <td>2018-02-10T15:50:01.000</td>\n",
       "      <td>8</td>\n",
       "      <td>1188223</td>\n",
       "      <td>1852840</td>\n",
       "      <td>2015</td>\n",
       "    </tr>\n",
       "    <tr>\n",
       "      <td>3</td>\n",
       "      <td>27</td>\n",
       "      <td>22528</td>\n",
       "      <td>42</td>\n",
       "      <td>359</td>\n",
       "      <td>35</td>\n",
       "      <td>11</td>\n",
       "      <td>12</td>\n",
       "      <td>20</td>\n",
       "      <td>False</td>\n",
       "      <td>2411</td>\n",
       "      <td>...</td>\n",
       "      <td>42.016804165</td>\n",
       "      <td>{'latitude': '42.016804165', 'human_address': ...</td>\n",
       "      <td>APARTMENT</td>\n",
       "      <td>-87.690708662</td>\n",
       "      <td>THEFT</td>\n",
       "      <td>2018-02-10T15:50:01.000</td>\n",
       "      <td>50</td>\n",
       "      <td>1158878</td>\n",
       "      <td>1949369</td>\n",
       "      <td>2015</td>\n",
       "    </tr>\n",
       "    <tr>\n",
       "      <td>4</td>\n",
       "      <td>25</td>\n",
       "      <td>21186</td>\n",
       "      <td>38</td>\n",
       "      <td>691</td>\n",
       "      <td>12</td>\n",
       "      <td>5</td>\n",
       "      <td>53</td>\n",
       "      <td>57</td>\n",
       "      <td>True</td>\n",
       "      <td>1923</td>\n",
       "      <td>...</td>\n",
       "      <td>41.949837364</td>\n",
       "      <td>{'latitude': '41.949837364', 'human_address': ...</td>\n",
       "      <td>SIDEWALK</td>\n",
       "      <td>-87.658635101</td>\n",
       "      <td>BATTERY</td>\n",
       "      <td>2018-02-10T15:50:01.000</td>\n",
       "      <td>44</td>\n",
       "      <td>1167786</td>\n",
       "      <td>1925033</td>\n",
       "      <td>2015</td>\n",
       "    </tr>\n",
       "  </tbody>\n",
       "</table>\n",
       "<p>5 rows × 30 columns</p>\n",
       "</div>"
      ],
      "text/plain": [
       "  :@computed_region_43wa_7qmu :@computed_region_6mkv_f3dw  \\\n",
       "0                         NaN                         NaN   \n",
       "1                          32                       21554   \n",
       "2                          35                       21202   \n",
       "3                          27                       22528   \n",
       "4                          25                       21186   \n",
       "\n",
       "  :@computed_region_awaf_s7ux :@computed_region_bdys_3d7i  \\\n",
       "0                         NaN                         NaN   \n",
       "1                          17                         511   \n",
       "2                           9                         431   \n",
       "3                          42                         359   \n",
       "4                          38                         691   \n",
       "\n",
       "  :@computed_region_d3ds_rm58 :@computed_region_d9mm_jgwp  \\\n",
       "0                         NaN                         NaN   \n",
       "1                         229                          20   \n",
       "2                         224                          19   \n",
       "3                          35                          11   \n",
       "4                          12                           5   \n",
       "\n",
       "  :@computed_region_rpca_8um6 :@computed_region_vrxf_vc4k  arrest  beat  ...  \\\n",
       "0                         NaN                         NaN   False  1422  ...   \n",
       "1                          59                          66   False  0621  ...   \n",
       "2                          25                          41   False  0411  ...   \n",
       "3                          12                          20   False  2411  ...   \n",
       "4                          53                          57    True  1923  ...   \n",
       "\n",
       "       latitude                                           location  \\\n",
       "0           NaN                                                NaN   \n",
       "1  41.757366519  {'latitude': '41.757366519', 'human_address': ...   \n",
       "2  41.751270452  {'latitude': '41.751270452', 'human_address': ...   \n",
       "3  42.016804165  {'latitude': '42.016804165', 'human_address': ...   \n",
       "4  41.949837364  {'latitude': '41.949837364', 'human_address': ...   \n",
       "\n",
       "      location_description      longitude     primary_type  \\\n",
       "0  RESIDENCE PORCH/HALLWAY            NaN            THEFT   \n",
       "1                   STREET  -87.642992854  CRIMINAL DAMAGE   \n",
       "2                   STREET  -87.585822373          BATTERY   \n",
       "3                APARTMENT  -87.690708662            THEFT   \n",
       "4                 SIDEWALK  -87.658635101          BATTERY   \n",
       "\n",
       "                updated_on  ward x_coordinate y_coordinate  year  \n",
       "0  2018-02-09T15:44:29.000    26          NaN          NaN  2015  \n",
       "1  2018-02-10T15:50:01.000    17      1172605      1854931  2015  \n",
       "2  2018-02-10T15:50:01.000     8      1188223      1852840  2015  \n",
       "3  2018-02-10T15:50:01.000    50      1158878      1949369  2015  \n",
       "4  2018-02-10T15:50:01.000    44      1167786      1925033  2015  \n",
       "\n",
       "[5 rows x 30 columns]"
      ]
     },
     "execution_count": 72,
     "metadata": {},
     "output_type": "execute_result"
    }
   ],
   "source": [
    "crime_df.head()"
   ]
  },
  {
   "cell_type": "code",
   "execution_count": 73,
   "metadata": {},
   "outputs": [
    {
     "name": "stdout",
     "output_type": "stream",
     "text": [
      "crime rows we expected to receive 802022\n",
      "crime rows we actually received 802022\n"
     ]
    }
   ],
   "source": [
    "#verify we have all the crime data\n",
    "crime_2015_count = 264306\n",
    "crime_2016_count = 269258\n",
    "crime_2017_count = 268458\n",
    "expected_crime_rows = crime_2015_count + crime_2016_count + crime_2017_count\n",
    "received_crime_rows = len(crime_2015_df.index) + len(crime_2016_df.index) + len(crime_2017_df.index) \n",
    "print(f'crime rows we expected to receive {expected_crime_rows}')\n",
    "print(f'crime rows we actually received {received_crime_rows}')"
   ]
  },
  {
   "cell_type": "code",
   "execution_count": 74,
   "metadata": {},
   "outputs": [
    {
     "name": "stdout",
     "output_type": "stream",
     "text": [
      " crime rows after dropna 802022\n"
     ]
    }
   ],
   "source": [
    "#Reduce to columns we need for temp analysis\n",
    "#Remove missing values\n",
    "sub_crime_df = crime_df[['date','primary_type']]\n",
    "sub_crime_df.set_index('date')\n",
    "sub_crime_df = sub_crime_df.dropna(axis=0, how='any', thresh=None, subset=None)\n",
    "print(f' crime rows after dropna {len(crime_df.index)}')"
   ]
  },
  {
   "cell_type": "code",
   "execution_count": 75,
   "metadata": {},
   "outputs": [],
   "source": [
    "#get the crime datetime at the hour so we can join to the hourly historical weather data\n",
    "#https://stackoverflow.com/questions/28773342/truncate-timestamp-column-to-hour-precision-in-pandas-dataframe\n",
    "sub_crime_df['date'] = pd.to_datetime(sub_crime_df['date'])\n",
    "sub_crime_df['date'] = sub_crime_df['date'].dt.floor('H')"
   ]
  },
  {
   "cell_type": "code",
   "execution_count": 76,
   "metadata": {},
   "outputs": [],
   "source": [
    "# write cleaned crime data to a csv\n",
    "sub_crime_df.to_csv('./Resources/crime_2015_to_2017.csv',index=False)"
   ]
  },
  {
   "cell_type": "code",
   "execution_count": 77,
   "metadata": {},
   "outputs": [
    {
     "name": "stdout",
     "output_type": "stream",
     "text": [
      "expected rows after merge of crime and weather 802022\n",
      "rows after merge of crime and weather 802022\n"
     ]
    }
   ],
   "source": [
    "# Merge the weather & crime dataframes using an left join on date\n",
    "#source reference\n",
    "#https://stackoverflow.com/questions/26283641/pandas-dataframe-too-long-after-merge\n",
    "merge_table = pd.merge(sub_crime_df, weather_data, left_on='date',right_on='date',how='left')\n",
    "print(f'expected rows after merge of crime and weather {len(crime_df.index)}')\n",
    "print(f'rows after merge of crime and weather {len(merge_table.index)}')"
   ]
  },
  {
   "cell_type": "code",
   "execution_count": 78,
   "metadata": {},
   "outputs": [
    {
     "name": "stdout",
     "output_type": "stream",
     "text": [
      "merged rows after dropna 801551\n"
     ]
    }
   ],
   "source": [
    "# Remove missing values\n",
    "merge_table = merge_table.dropna(axis=0, how='any', thresh=None, subset=None)\n",
    "print(f'merged rows after dropna {len(merge_table.index)}')"
   ]
  },
  {
   "cell_type": "code",
   "execution_count": 79,
   "metadata": {},
   "outputs": [
    {
     "name": "stdout",
     "output_type": "stream",
     "text": [
      "crime rows lost due to missing weather data due to 6 hour GMT time difference 471\n"
     ]
    }
   ],
   "source": [
    "# we lost data due to GMT weather data\n",
    "print(f'crime rows lost due to missing weather data due to 6 hour GMT time difference { len(crime_df.index) -len(merge_table.index) }')"
   ]
  },
  {
   "cell_type": "code",
   "execution_count": 80,
   "metadata": {},
   "outputs": [
    {
     "data": {
      "text/html": [
       "<div>\n",
       "<style scoped>\n",
       "    .dataframe tbody tr th:only-of-type {\n",
       "        vertical-align: middle;\n",
       "    }\n",
       "\n",
       "    .dataframe tbody tr th {\n",
       "        vertical-align: top;\n",
       "    }\n",
       "\n",
       "    .dataframe thead th {\n",
       "        text-align: right;\n",
       "    }\n",
       "</style>\n",
       "<table border=\"1\" class=\"dataframe\">\n",
       "  <thead>\n",
       "    <tr style=\"text-align: right;\">\n",
       "      <th></th>\n",
       "      <th>date</th>\n",
       "      <th>primary_type</th>\n",
       "      <th>temp</th>\n",
       "      <th>date_trunc</th>\n",
       "      <th>year</th>\n",
       "    </tr>\n",
       "  </thead>\n",
       "  <tbody>\n",
       "    <tr>\n",
       "      <td>0</td>\n",
       "      <td>2015-12-31 23:00:00</td>\n",
       "      <td>THEFT</td>\n",
       "      <td>24.0</td>\n",
       "      <td>2015-12-31</td>\n",
       "      <td>2015.0</td>\n",
       "    </tr>\n",
       "    <tr>\n",
       "      <td>1</td>\n",
       "      <td>2015-12-31 23:00:00</td>\n",
       "      <td>CRIMINAL DAMAGE</td>\n",
       "      <td>24.0</td>\n",
       "      <td>2015-12-31</td>\n",
       "      <td>2015.0</td>\n",
       "    </tr>\n",
       "    <tr>\n",
       "      <td>2</td>\n",
       "      <td>2015-12-31 23:00:00</td>\n",
       "      <td>BATTERY</td>\n",
       "      <td>24.0</td>\n",
       "      <td>2015-12-31</td>\n",
       "      <td>2015.0</td>\n",
       "    </tr>\n",
       "    <tr>\n",
       "      <td>3</td>\n",
       "      <td>2015-12-31 23:00:00</td>\n",
       "      <td>THEFT</td>\n",
       "      <td>24.0</td>\n",
       "      <td>2015-12-31</td>\n",
       "      <td>2015.0</td>\n",
       "    </tr>\n",
       "    <tr>\n",
       "      <td>4</td>\n",
       "      <td>2015-12-31 23:00:00</td>\n",
       "      <td>BATTERY</td>\n",
       "      <td>24.0</td>\n",
       "      <td>2015-12-31</td>\n",
       "      <td>2015.0</td>\n",
       "    </tr>\n",
       "  </tbody>\n",
       "</table>\n",
       "</div>"
      ],
      "text/plain": [
       "                 date     primary_type  temp date_trunc    year\n",
       "0 2015-12-31 23:00:00            THEFT  24.0 2015-12-31  2015.0\n",
       "1 2015-12-31 23:00:00  CRIMINAL DAMAGE  24.0 2015-12-31  2015.0\n",
       "2 2015-12-31 23:00:00          BATTERY  24.0 2015-12-31  2015.0\n",
       "3 2015-12-31 23:00:00            THEFT  24.0 2015-12-31  2015.0\n",
       "4 2015-12-31 23:00:00          BATTERY  24.0 2015-12-31  2015.0"
      ]
     },
     "execution_count": 80,
     "metadata": {},
     "output_type": "execute_result"
    }
   ],
   "source": [
    "merge_table.head()"
   ]
  },
  {
   "cell_type": "code",
   "execution_count": 81,
   "metadata": {},
   "outputs": [
    {
     "data": {
      "text/plain": [
       "date            datetime64[ns]\n",
       "primary_type            object\n",
       "temp                   float64\n",
       "date_trunc      datetime64[ns]\n",
       "year                   float64\n",
       "dtype: object"
      ]
     },
     "execution_count": 81,
     "metadata": {},
     "output_type": "execute_result"
    }
   ],
   "source": [
    "merge_table.dtypes"
   ]
  },
  {
   "cell_type": "code",
   "execution_count": 82,
   "metadata": {},
   "outputs": [],
   "source": [
    "# write merged crime and weather data to a csv\n",
    "merge_table.to_csv('./Resources/merged_crime_and_weather_data.csv',index=False)"
   ]
  }
 ],
 "metadata": {
  "kernelspec": {
   "display_name": "Python 3",
   "language": "python",
   "name": "python3"
  },
  "language_info": {
   "codemirror_mode": {
    "name": "ipython",
    "version": 3
   },
   "file_extension": ".py",
   "mimetype": "text/x-python",
   "name": "python",
   "nbconvert_exporter": "python",
   "pygments_lexer": "ipython3",
   "version": "3.6.9"
  }
 },
 "nbformat": 4,
 "nbformat_minor": 2
}
