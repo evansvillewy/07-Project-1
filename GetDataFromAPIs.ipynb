{
 "cells": [
  {
   "cell_type": "code",
   "execution_count": 7,
   "metadata": {},
   "outputs": [],
   "source": [
    "# Dependencies\n",
    "import json\n",
    "import requests\n",
    "from config import app_token"
   ]
  },
  {
   "cell_type": "code",
   "execution_count": 2,
   "metadata": {},
   "outputs": [],
   "source": [
    "#Bulk Historical Chicago 2015-2017 Weather data purchased from OpenWeather\n",
    "weather_url='http://history.openweathermap.org/storage/816ed76c7c99b37801f14644c17deb71.json'\n",
    "weather_response = requests.get(weather_url).json()\n"
   ]
  },
  {
   "cell_type": "code",
   "execution_count": 8,
   "metadata": {},
   "outputs": [
    {
     "data": {
      "text/plain": [
       "26307"
      ]
     },
     "execution_count": 8,
     "metadata": {},
     "output_type": "execute_result"
    }
   ],
   "source": [
    "#verify we the downloaded data based \n",
    "#(24 weather measurements per day for 365 days in 2015, 366 days in 2016, 365 days in 2017 )\n",
    "len(weather_response)"
   ]
  },
  {
   "cell_type": "code",
   "execution_count": 6,
   "metadata": {},
   "outputs": [],
   "source": [
    "#save weather data for use by other notebooks\n",
    "with open('./Resources/weather_2015_to_2017_json.txt', 'w') as outfile:\n",
    "    json.dump(weather_response, outfile)"
   ]
  },
  {
   "cell_type": "code",
   "execution_count": 9,
   "metadata": {},
   "outputs": [],
   "source": [
    "# get the Chicago crime data for 2015-2017 \n",
    "# 2015 has 264,306 records - counts pulled from https://data.cityofchicago.org/\n",
    "# 2016 has 269,258 records\n",
    "# 2017 has 268,458 records \n",
    "url_crime_2015 = f'https://data.cityofchicago.org/resource/vwwp-7yr9.json?$$app_token={app_token}&$limit=264306'\n",
    "url_crime_2016 = f'https://data.cityofchicago.org/resource/kf95-mnd6.json?$$app_token={app_token}&$limit=269258'\n",
    "url_crime_2017 = f'https://data.cityofchicago.org/resource/d62x-nvdr.json?$$app_token={app_token}&$limit=268458'\n",
    "\n",
    "response_2015 = requests.get(url_crime_2015).json()\n",
    "response_2016 = requests.get(url_crime_2016).json()\n",
    "response_2017 = requests.get(url_crime_2017).json()"
   ]
  },
  {
   "cell_type": "code",
   "execution_count": 10,
   "metadata": {},
   "outputs": [
    {
     "data": {
      "text/plain": [
       "264306"
      ]
     },
     "execution_count": 10,
     "metadata": {},
     "output_type": "execute_result"
    }
   ],
   "source": [
    "#verify we have downloaded all the data based on count provided in API doc for 2015\n",
    "len(response_2015)"
   ]
  },
  {
   "cell_type": "code",
   "execution_count": 11,
   "metadata": {},
   "outputs": [
    {
     "data": {
      "text/plain": [
       "269258"
      ]
     },
     "execution_count": 11,
     "metadata": {},
     "output_type": "execute_result"
    }
   ],
   "source": [
    "#verify we have downloaded all the data based on count provided in API doc for 2015\n",
    "len(response_2016)"
   ]
  },
  {
   "cell_type": "code",
   "execution_count": 12,
   "metadata": {},
   "outputs": [
    {
     "data": {
      "text/plain": [
       "268458"
      ]
     },
     "execution_count": 12,
     "metadata": {},
     "output_type": "execute_result"
    }
   ],
   "source": [
    "#verify we have downloaded all the data based on count provided in API doc for 2015\n",
    "len(response_2017)"
   ]
  },
  {
   "cell_type": "code",
   "execution_count": 13,
   "metadata": {},
   "outputs": [],
   "source": [
    "#save the crime data by year for future use in other notebooks\n",
    "with open('./Resources/crime_2015_json.txt', 'w') as outfile:\n",
    "    json.dump(response_2015, outfile)\n",
    "with open('./Resources/crime_2016_json.txt', 'w') as outfile:\n",
    "    json.dump(response_2016, outfile)\n",
    "with open('./Resources/crime_2017_json.txt', 'w') as outfile:\n",
    "    json.dump(response_2017, outfile)    "
   ]
  }
 ],
 "metadata": {
  "kernelspec": {
   "display_name": "Python 3",
   "language": "python",
   "name": "python3"
  },
  "language_info": {
   "codemirror_mode": {
    "name": "ipython",
    "version": 3
   },
   "file_extension": ".py",
   "mimetype": "text/x-python",
   "name": "python",
   "nbconvert_exporter": "python",
   "pygments_lexer": "ipython3",
   "version": "3.6.9"
  }
 },
 "nbformat": 4,
 "nbformat_minor": 2
}
