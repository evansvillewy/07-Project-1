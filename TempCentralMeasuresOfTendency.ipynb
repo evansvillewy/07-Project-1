{
 "cells": [
  {
   "cell_type": "code",
   "execution_count": 1,
   "metadata": {},
   "outputs": [],
   "source": [
    "#import dependencies\n",
    "# Dependencies\n",
    "import pandas as pd\n",
    "import numpy as np\n",
    "import matplotlib.pyplot as plt\n",
    "import scipy.stats as sts"
   ]
  },
  {
   "cell_type": "code",
   "execution_count": 2,
   "metadata": {},
   "outputs": [],
   "source": [
    "#read the merged crime and weather data from saved files   \n",
    "merged_table = pd.read_csv('./Resources/merged_crime_and_weather_data.csv')"
   ]
  },
  {
   "cell_type": "code",
   "execution_count": 3,
   "metadata": {},
   "outputs": [
    {
     "data": {
      "text/plain": [
       "date            801551\n",
       "primary_type    801551\n",
       "temp            801551\n",
       "date_trunc      801551\n",
       "year            801551\n",
       "dtype: int64"
      ]
     },
     "execution_count": 3,
     "metadata": {},
     "output_type": "execute_result"
    }
   ],
   "source": [
    "# get a count so we can ensure we have all our data\n",
    "merged_table.count()"
   ]
  },
  {
   "cell_type": "code",
   "execution_count": 4,
   "metadata": {},
   "outputs": [
    {
     "data": {
      "text/html": [
       "<div>\n",
       "<style scoped>\n",
       "    .dataframe tbody tr th:only-of-type {\n",
       "        vertical-align: middle;\n",
       "    }\n",
       "\n",
       "    .dataframe tbody tr th {\n",
       "        vertical-align: top;\n",
       "    }\n",
       "\n",
       "    .dataframe thead th {\n",
       "        text-align: right;\n",
       "    }\n",
       "</style>\n",
       "<table border=\"1\" class=\"dataframe\">\n",
       "  <thead>\n",
       "    <tr style=\"text-align: right;\">\n",
       "      <th></th>\n",
       "      <th>date</th>\n",
       "      <th>primary_type</th>\n",
       "      <th>temp</th>\n",
       "      <th>date_trunc</th>\n",
       "      <th>year</th>\n",
       "    </tr>\n",
       "  </thead>\n",
       "  <tbody>\n",
       "    <tr>\n",
       "      <td>0</td>\n",
       "      <td>2015-12-31 23:00:00</td>\n",
       "      <td>THEFT</td>\n",
       "      <td>24.0</td>\n",
       "      <td>2015-12-31 00:00:00</td>\n",
       "      <td>2015.0</td>\n",
       "    </tr>\n",
       "    <tr>\n",
       "      <td>1</td>\n",
       "      <td>2015-12-31 23:00:00</td>\n",
       "      <td>CRIMINAL DAMAGE</td>\n",
       "      <td>24.0</td>\n",
       "      <td>2015-12-31 00:00:00</td>\n",
       "      <td>2015.0</td>\n",
       "    </tr>\n",
       "    <tr>\n",
       "      <td>2</td>\n",
       "      <td>2015-12-31 23:00:00</td>\n",
       "      <td>BATTERY</td>\n",
       "      <td>24.0</td>\n",
       "      <td>2015-12-31 00:00:00</td>\n",
       "      <td>2015.0</td>\n",
       "    </tr>\n",
       "    <tr>\n",
       "      <td>3</td>\n",
       "      <td>2015-12-31 23:00:00</td>\n",
       "      <td>THEFT</td>\n",
       "      <td>24.0</td>\n",
       "      <td>2015-12-31 00:00:00</td>\n",
       "      <td>2015.0</td>\n",
       "    </tr>\n",
       "    <tr>\n",
       "      <td>4</td>\n",
       "      <td>2015-12-31 23:00:00</td>\n",
       "      <td>BATTERY</td>\n",
       "      <td>24.0</td>\n",
       "      <td>2015-12-31 00:00:00</td>\n",
       "      <td>2015.0</td>\n",
       "    </tr>\n",
       "  </tbody>\n",
       "</table>\n",
       "</div>"
      ],
      "text/plain": [
       "                  date     primary_type  temp           date_trunc    year\n",
       "0  2015-12-31 23:00:00            THEFT  24.0  2015-12-31 00:00:00  2015.0\n",
       "1  2015-12-31 23:00:00  CRIMINAL DAMAGE  24.0  2015-12-31 00:00:00  2015.0\n",
       "2  2015-12-31 23:00:00          BATTERY  24.0  2015-12-31 00:00:00  2015.0\n",
       "3  2015-12-31 23:00:00            THEFT  24.0  2015-12-31 00:00:00  2015.0\n",
       "4  2015-12-31 23:00:00          BATTERY  24.0  2015-12-31 00:00:00  2015.0"
      ]
     },
     "execution_count": 4,
     "metadata": {},
     "output_type": "execute_result"
    }
   ],
   "source": [
    "#preview the data\n",
    "merged_table.head()"
   ]
  },
  {
   "cell_type": "code",
   "execution_count": 5,
   "metadata": {},
   "outputs": [],
   "source": [
    "#reduce the data to just the temperatures for chicago crime from 2015-2017\n",
    "temperatures = merged_table['temp']"
   ]
  },
  {
   "cell_type": "code",
   "execution_count": 6,
   "metadata": {},
   "outputs": [
    {
     "name": "stdout",
     "output_type": "stream",
     "text": [
      "The mean temperature of crime in Chicago is 55.07380815444058\n",
      "The median temperature of crime in Chicago is 57.0\n",
      "The mode temperature of crime in Chicago is ModeResult(mode=array([73.]), count=array([18923]))\n"
     ]
    }
   ],
   "source": [
    "# Get the measures of central tendency\n",
    "mean_crime = np.mean(temperatures)\n",
    "print(f\"The mean temperature of crime in Chicago is {mean_crime}\")\n",
    "\n",
    "median_crime= np.median(temperatures)\n",
    "print(f\"The median temperature of crime in Chicago is {median_crime}\")\n",
    "\n",
    "mode_crime = sts.mode(temperatures)\n",
    "print(f\"The mode temperature of crime in Chicago is {mode_crime}\")"
   ]
  },
  {
   "cell_type": "code",
   "execution_count": 7,
   "metadata": {},
   "outputs": [
    {
     "data": {
      "image/png": "[encoded data removed]",
      "text/plain": [
       "<Figure size 1440x720 with 1 Axes>"
      ]
     },
     "metadata": {
      "needs_background": "light"
     },
     "output_type": "display_data"
    },
    {
     "name": "stdout",
     "output_type": "stream",
     "text": [
      "Sample looks Gaussian/normal (fail to reject NULL hypothesis p-value = 0.05828195196453393\n"
     ]
    }
   ],
   "source": [
    "# Display the distribution of the crime temperatures\n",
    "# source - UCF Bootcamp stats training :)\n",
    "# and to help me understand the result of normaltest\n",
    "# https://datascienceplus.com/normality-tests-in-python/\n",
    "# draw an average line in histogram\n",
    "#https://stackoverflow.com/questions/16180946/drawing-average-line-in-histogram-matplotlib\n",
    "\n",
    "#adjust the figure size\n",
    "fig_size = plt.rcParams[\"figure.figsize\"]\n",
    "fig_size[0] = 20\n",
    "fig_size[1] = 10\n",
    "plt.rcParams[\"figure.figsize\"] = fig_size\n",
    "\n",
    "#histogram, labels and mean line\n",
    "plt.hist(temperatures)\n",
    "plt.title(\"Distribution of Chicago Crime Rates by Temperature 2015 - 2017\")\n",
    "plt.xlabel('Temperature (°F)')\n",
    "plt.ylabel('Crime Counts')\n",
    "plt.axvline(temperatures.mean(), color='r', linestyle='dashed', linewidth=2)\n",
    "\n",
    "x_axis = np.arange(0,100,10)\n",
    "\n",
    "# Create the ticks for our bar chart's x axis\n",
    "tick_locations = [value for value in x_axis]\n",
    "plt.xticks(tick_locations, x_axis)\n",
    "\n",
    "# save then show\n",
    "plt.savefig(\"./Images/distribution_crime_by_temp.png\")\n",
    "plt.show()\n",
    "\n",
    "# normality test\n",
    "# provide the p-value\n",
    "stat, p = sts.normaltest(temperatures.sample(100))\n",
    "\n",
    "# interpret\n",
    "alpha = 0.05\n",
    "if p > alpha:\n",
    "    print(f'Sample looks Gaussian/normal (fail to reject NULL hypothesis p-value = {p}')\n",
    "else:\n",
    "    print(f'Sample does not look Gaussian/normal (reject NULL hypothesis p-value = {p}')"
   ]
  },
  {
   "cell_type": "code",
   "execution_count": 8,
   "metadata": {},
   "outputs": [
    {
     "name": "stdout",
     "output_type": "stream",
     "text": [
      "The population variance using the NumPy module is 390.8225682903794\n",
      "The population standard deviation using the NumPy module is 19.76923287055872\n"
     ]
    }
   ],
   "source": [
    "# Calculate the variance and standard deviation of the data\n",
    "variance = np.var(temperatures,ddof = 0)\n",
    "print(f\"The population variance using the NumPy module is {variance}\")\n",
    "\n",
    "std = np.std(temperatures,ddof = 0)\n",
    "print(f\"The population standard deviation using the NumPy module is {std}\")"
   ]
  },
  {
   "cell_type": "code",
   "execution_count": 9,
   "metadata": {},
   "outputs": [
    {
     "data": {
      "text/plain": [
       "-8.0"
      ]
     },
     "execution_count": 9,
     "metadata": {},
     "output_type": "execute_result"
    }
   ],
   "source": [
    "temperatures.min()"
   ]
  },
  {
   "cell_type": "code",
   "execution_count": 10,
   "metadata": {},
   "outputs": [
    {
     "data": {
      "text/plain": [
       "95.0"
      ]
     },
     "execution_count": 10,
     "metadata": {},
     "output_type": "execute_result"
    }
   ],
   "source": [
    "temperatures.max()"
   ]
  },
  {
   "cell_type": "code",
   "execution_count": 11,
   "metadata": {},
   "outputs": [
    {
     "name": "stdout",
     "output_type": "stream",
     "text": [
      "Roughly 68% of the data is between 35.305 and 74.843\n",
      "Roughly 95% of the data is between 15.535 and 94.612\n",
      "Roughly 99.7% of the data is between -4.234 and 114.382\n"
     ]
    }
   ],
   "source": [
    "# Calculate the 68-95-99.7 rule using the standard deviation\n",
    "print(f\"Roughly 68% of the data is between {round(mean_crime-std,3)} and {round(mean_crime+std,3)}\")\n",
    "print(f\"Roughly 95% of the data is between {round(mean_crime-2*std,3)} and {round(mean_crime+2*std,3)}\")\n",
    "print(f\"Roughly 99.7% of the data is between {round(mean_crime-3*std,3)} and {round(mean_crime+3*std,3)}\")"
   ]
  }
 ],
 "metadata": {
  "kernelspec": {
   "display_name": "Python 3",
   "language": "python",
   "name": "python3"
  },
  "language_info": {
   "codemirror_mode": {
    "name": "ipython",
    "version": 3
   },
   "file_extension": ".py",
   "mimetype": "text/x-python",
   "name": "python",
   "nbconvert_exporter": "python",
   "pygments_lexer": "ipython3",
   "version": "3.6.9"
  }
 },
 "nbformat": 4,
 "nbformat_minor": 2
}
